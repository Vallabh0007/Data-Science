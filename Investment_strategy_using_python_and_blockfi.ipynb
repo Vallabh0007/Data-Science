{
  "nbformat": 4,
  "nbformat_minor": 0,
  "metadata": {
    "colab": {
      "name": "Investment strategy using python and blockfi.ipynb",
      "provenance": [],
      "collapsed_sections": [],
      "authorship_tag": "ABX9TyPZC+qRpWEcrABMPPKBzFfN",
      "include_colab_link": true
    },
    "kernelspec": {
      "name": "python3",
      "display_name": "Python 3"
    },
    "language_info": {
      "name": "python"
    }
  },
  "cells": [
    {
      "cell_type": "markdown",
      "metadata": {
        "id": "view-in-github",
        "colab_type": "text"
      },
      "source": [
        "<a href=\"https://colab.research.google.com/github/Vallabh0007/Data-Science/blob/master/Investment_strategy_using_python_and_blockfi.ipynb\" target=\"_parent\"><img src=\"https://colab.research.google.com/assets/colab-badge.svg\" alt=\"Open In Colab\"/></a>"
      ]
    },
    {
      "cell_type": "code",
      "metadata": {
        "id": "rFjq3dVVq3JF"
      },
      "source": [
        "#How much cna you make on BlockFi by consistently investing\n"
      ],
      "execution_count": null,
      "outputs": []
    },
    {
      "cell_type": "code",
      "metadata": {
        "id": "zLiNmm0JrAbh"
      },
      "source": [
        "import math\n",
        "import numpy as np\n",
        "import pandas as pd\n",
        "import matplotlib.pyplot as plt\n",
        "plt.style.use('fivethirtyeight')"
      ],
      "execution_count": 1,
      "outputs": []
    },
    {
      "cell_type": "code",
      "metadata": {
        "id": "qmvgqc6wrUrT"
      },
      "source": [
        "#creating variable for monthly deposits\n",
        "monthly_saving=2000 #inr\n",
        "#store interest rate\n",
        "rate=0.086 #APY\n",
        "#create variable to store the time or number of time periods elapsed\n",
        "time= 1/12\n",
        "#variable to store the number of times the interest is applied for time period\n",
        "num_compounder=12\n",
        "#variable to store the number of months invested \n",
        "num_months_saving=240 # 12 months * 20 years\n"
      ],
      "execution_count": 15,
      "outputs": []
    },
    {
      "cell_type": "code",
      "metadata": {
        "id": "YLng44JosWA1"
      },
      "source": [
        "#function to mimic compound formula\n",
        "def compound_interest(p,r,t,n):\n",
        "  A = p * pow( (1 + r/n), (t*n))\n",
        "  return A"
      ],
      "execution_count": 16,
      "outputs": []
    },
    {
      "cell_type": "code",
      "metadata": {
        "id": "mRzWWlHzszSj"
      },
      "source": [
        "#function for the strategy\n",
        "def investment_strategy():\n",
        "  #empty list to store the values\n",
        "  compound_list=[]\n",
        "  monthly_deposit_list=[]\n",
        "\n",
        "  #Add the initial deposit or the 1st month savings to the lists\n",
        "  compound_list.append(monthly_saving)\n",
        "  monthly_deposit_list.append(monthly_saving)\n",
        "\n",
        "  #loop through no of months - 1\n",
        "  for i in range(1,num_months_saving):\n",
        "    Amount= compound_interest( compound_list[i-1], rate, time, num_compounder)\n",
        "    compound_list.append( Amount + monthly_saving)\n",
        "    monthly_deposit_list.append(monthly_saving)\n",
        "\n",
        "  return (compound_list, monthly_deposit_list)"
      ],
      "execution_count": 17,
      "outputs": []
    },
    {
      "cell_type": "code",
      "metadata": {
        "colab": {
          "base_uri": "https://localhost:8080/"
        },
        "id": "D6oG-jDbuqm9",
        "outputId": "3d27f8b7-bb2f-4f36-ebce-17e7cea049e1"
      },
      "source": [
        "#Get and store the compound list\n",
        "compound_list=investment_strategy()[0]\n",
        "compound_list"
      ],
      "execution_count": 18,
      "outputs": [
        {
          "output_type": "execute_result",
          "data": {
            "text/plain": [
              "[2000,\n",
              " 4014.3333333333335,\n",
              " 6043.102722222223,\n",
              " 8086.411625064816,\n",
              " 10144.364241711115,\n",
              " 12217.065518776712,\n",
              " 14304.621154994613,\n",
              " 16407.137606605407,\n",
              " 18524.72209278608,\n",
              " 20657.482601117714,\n",
              " 22805.527893092392,\n",
              " 24968.967509659557,\n",
              " 27147.911776812118,\n",
              " 29342.471811212607,\n",
              " 31552.759525859634,\n",
              " 33778.88763579496,\n",
              " 36020.969663851494,\n",
              " 38279.119946442435,\n",
              " 40553.45363939194,\n",
              " 42844.08672380759,\n",
              " 45151.13601199488,\n",
              " 47474.71915341418,\n",
              " 49814.95464068032,\n",
              " 52171.9618156052,\n",
              " 54545.86087528371,\n",
              " 56936.77287822325,\n",
              " 59344.81975051719,\n",
              " 61770.124292062574,\n",
              " 64212.81018282236,\n",
              " 66673.0019891326,\n",
              " 69150.82517005471,\n",
              " 71646.40608377344,\n",
              " 74159.8719940405,\n",
              " 76691.35107666446,\n",
              " 79240.97242604723,\n",
              " 81808.86606176724,\n",
              " 84395.16293520991,\n",
              " 86999.9949362456,\n",
              " 89623.49489995536,\n",
              " 92265.79661340505,\n",
              " 94927.0348224678,\n",
              " 97607.3452386955,\n",
              " 100306.86454623949,\n",
              " 103025.73040882089,\n",
              " 105764.08147675078,\n",
              " 108522.05739400085,\n",
              " 111299.79880532454,\n",
              " 114097.44736342937,\n",
              " 116915.14573620062,\n",
              " 119753.03761397673,\n",
              " 122611.26771687692,\n",
              " 125489.98180218121,\n",
              " 128389.32667176353,\n",
              " 131309.45017957786,\n",
              " 134250.50123919817,\n",
              " 137212.62983141243,\n",
              " 140195.9870118709,\n",
              " 143200.72491878932,\n",
              " 146226.99678070733,\n",
              " 149274.95692430242,\n",
              " 152344.76078225992,\n",
              " 155436.56490119948,\n",
              " 158550.5269496581,\n",
              " 161686.80572613064,\n",
              " 164845.56116716794,\n",
              " 168026.95435553265,\n",
              " 171231.14752841397,\n",
              " 174458.30408570095,\n",
              " 177708.58859831517,\n",
              " 180982.1668166031,\n",
              " 184279.20567878877,\n",
              " 187599.87331948677,\n",
              " 190944.33907827645,\n",
              " 194312.77350833744,\n",
              " 197705.34838514723,\n",
              " 201122.2367152408,\n",
              " 204563.6127450334,\n",
              " 208029.65196970617,\n",
              " 211520.53114215576,\n",
              " 215036.4282820079,\n",
              " 218577.52268469564,\n",
              " 222143.99493060264,\n",
              " 225736.02689427198,\n",
              " 229353.80175368095,\n",
              " 232997.50399958235,\n",
              " 236667.31944491272,\n",
              " 240363.43523426796,\n",
              " 244086.0398534469,\n",
              " 247835.32313906332,\n",
              " 251611.47628822664,\n",
              " 255414.69186829228,\n",
              " 259245.16382668173,\n",
              " 263103.08750077296,\n",
              " 266988.65962786187,\n",
              " 270902.0783551949,\n",
              " 274843.5432500738,\n",
              " 278813.2553100327,\n",
              " 282811.41697308794,\n",
              " 286838.23212806176,\n",
              " 290893.90612497955,\n",
              " 294978.6457855419,\n",
              " 299092.65941367164,\n",
              " 303236.1568061363,\n",
              " 307409.349263247,\n",
              " 311612.44959963363,\n",
              " 315845.6721550977,\n",
              " 320109.2328055426,\n",
              " 324403.3489739823,\n",
              " 328728.2396416292,\n",
              " 333084.12535906094,\n",
              " 337471.22825746756,\n",
              " 341889.77205997944,\n",
              " 346339.982093076,\n",
              " 350822.0852980764,\n",
              " 355336.3102427126,\n",
              " 359882.8871327854,\n",
              " 364462.04782390373,\n",
              " 369074.0258333084,\n",
              " 373719.0563517805,\n",
              " 378397.37625563494,\n",
              " 383109.22411880037,\n",
              " 387854.84022498515,\n",
              " 392634.4665799309,\n",
              " 397448.3469237538,\n",
              " 402296.7267433741,\n",
              " 407179.85328503494,\n",
              " 412097.97556691105,\n",
              " 417051.3443918073,\n",
              " 422040.2123599486,\n",
              " 427064.8338818616,\n",
              " 432125.4651913483,\n",
              " 437222.36435855296,\n",
              " 442355.79130312265,\n",
              " 447526.0078074617,\n",
              " 452733.2775300819,\n",
              " 457977.86601904756,\n",
              " 463260.04072551744,\n",
              " 468580.0710173837,\n",
              " 473938.22819300834,\n",
              " 479334.7854950583,\n",
              " 484770.0181244396,\n",
              " 490244.2032543314,\n",
              " 495757.6200443208,\n",
              " 501310.5496546385,\n",
              " 506903.2752604968,\n",
              " 512536.0820665304,\n",
              " 518209.2573213406,\n",
              " 523923.0903321436,\n",
              " 529677.872479524,\n",
              " 535473.897232294,\n",
              " 541311.4601624588,\n",
              " 547190.8589602899,\n",
              " 553112.3934495053,\n",
              " 559076.3656025602,\n",
              " 565083.0795560452,\n",
              " 571132.841626197,\n",
              " 577225.9603245181,\n",
              " 583362.7463735106,\n",
              " 589543.5127225207,\n",
              " 595768.5745636988,\n",
              " 602038.2493480721,\n",
              " 608352.8568017334,\n",
              " 614712.7189421458,\n",
              " 621118.1600945645,\n",
              " 627569.5069085757,\n",
              " 634067.0883747538,\n",
              " 640611.2358414397,\n",
              " 647202.2830316367,\n",
              " 653840.5660600303,\n",
              " 660526.4234501272,\n",
              " 667260.1961515199,\n",
              " 674042.2275572725,\n",
              " 680872.8635214331,\n",
              " 687752.4523766701,\n",
              " 694681.3449520363,\n",
              " 701659.8945908593,\n",
              " 708688.4571687605,\n",
              " 715767.3911118034,\n",
              " 722897.0574147714,\n",
              " 730077.8196595773,\n",
              " 737310.0440338043,\n",
              " 744594.09934938,\n",
              " 751930.357061384,\n",
              " 759319.1912869907,\n",
              " 766760.9788245475,\n",
              " 774256.0991727902,\n",
              " 781804.9345501952,\n",
              " 789407.8699144718,\n",
              " 797065.2929821922,\n",
              " 804777.5942485647,\n",
              " 812545.1670073462,\n",
              " 820368.4073708989,\n",
              " 828247.7142903904,\n",
              " 836183.4895761382,\n",
              " 844176.1379181006,\n",
              " 852226.0669065138,\n",
              " 860333.6870526772,\n",
              " 868499.4118098881,\n",
              " 876723.6575945257,\n",
              " 885006.8438072866,\n",
              " 893349.3928545723,\n",
              " 901751.7301700301,\n",
              " 910214.2842362488,\n",
              " 918737.4866066087,\n",
              " 927321.7719272895,\n",
              " 935967.5779594352,\n",
              " 944675.3456014779,\n",
              " 953445.5189116219,\n",
              " 962278.5451304886,\n",
              " 971174.8747039238,\n",
              " 980134.9613059687,\n",
              " 989159.2618619949,\n",
              " 998248.2365720059,\n",
              " 1007402.3489341054,\n",
              " 1016622.0657681333,\n",
              " 1025907.8572394716,\n",
              " 1035260.1968830213,\n",
              " 1044679.5616273497,\n",
              " 1054166.4318190124,\n",
              " 1063721.2912470486,\n",
              " 1073344.6271676526,\n",
              " 1083036.9303290208,\n",
              " 1092798.6949963789,\n",
              " 1102630.4189771863,\n",
              " 1112532.6036465229,\n",
              " 1122505.7539726563,\n",
              " 1132550.378542794,\n",
              " 1142666.9895890174,\n",
              " 1152856.1030144054,\n",
              " 1163118.238419342,\n",
              " 1173453.9191280142,\n",
              " 1183863.6722150985,\n",
              " 1194348.02853264,\n",
              " 1204907.522737124,\n",
              " 1215542.6933167402,\n",
              " 1226254.0826188435,\n",
              " 1237042.236877612,\n",
              " 1247907.7062419017,\n",
              " 1258851.044803302,\n",
              " 1269872.8106243925]"
            ]
          },
          "metadata": {
            "tags": []
          },
          "execution_count": 18
        }
      ]
    },
    {
      "cell_type": "code",
      "metadata": {
        "colab": {
          "base_uri": "https://localhost:8080/"
        },
        "id": "9lbNLZA-vqpF",
        "outputId": "1f10d581-9f7b-4167-fb93-0e8b6e9be045"
      },
      "source": [
        "#total return on investment\n",
        "total_return = compound_list[num_months_saving -1]\n",
        "total_return"
      ],
      "execution_count": 19,
      "outputs": [
        {
          "output_type": "execute_result",
          "data": {
            "text/plain": [
              "1269872.8106243925"
            ]
          },
          "metadata": {
            "tags": []
          },
          "execution_count": 19
        }
      ]
    },
    {
      "cell_type": "code",
      "metadata": {
        "colab": {
          "base_uri": "https://localhost:8080/"
        },
        "id": "Kxypa5AwvtlD",
        "outputId": "5e53cd7a-7a3f-4ce9-80de-db2831543ac7"
      },
      "source": [
        "#List of monthly deposits\n",
        "monthly_deposit_list=investment_strategy()[1]\n",
        "\n",
        "#Get the total deposit amount\n",
        "total_deposit = len(monthly_deposit_list) * monthly_saving\n",
        "total_deposit"
      ],
      "execution_count": 20,
      "outputs": [
        {
          "output_type": "execute_result",
          "data": {
            "text/plain": [
              "480000"
            ]
          },
          "metadata": {
            "tags": []
          },
          "execution_count": 20
        }
      ]
    },
    {
      "cell_type": "code",
      "metadata": {
        "colab": {
          "base_uri": "https://localhost:8080/",
          "height": 313
        },
        "id": "tFTxIbE7woSP",
        "outputId": "85b12094-769c-40a6-e544-8671a1f11349"
      },
      "source": [
        "#visualising the investment\n",
        "plt.plot(compound_list,label='Comp')\n",
        "plt.plot(monthly_deposit_list,label='Cash')\n",
        "plt.title('Amount gained over time')\n",
        "plt.ylabel('Price')\n",
        "plt.xlabel('Months')\n",
        "plt.legend(loc='upper left')\n",
        "plt.show"
      ],
      "execution_count": 21,
      "outputs": [
        {
          "output_type": "execute_result",
          "data": {
            "text/plain": [
              "<function matplotlib.pyplot.show>"
            ]
          },
          "metadata": {
            "tags": []
          },
          "execution_count": 21
        },
        {
          "output_type": "display_data",
          "data": {
            "image/png": "[encoded data removed]",
            "text/plain": [
              "<Figure size 432x288 with 1 Axes>"
            ]
          },
          "metadata": {
            "tags": [],
            "needs_background": "light"
          }
        }
      ]
    },
    {
      "cell_type": "code",
      "metadata": {
        "id": "SfmowSPxxKCX"
      },
      "source": [
        ""
      ],
      "execution_count": null,
      "outputs": []
    }
  ]
}